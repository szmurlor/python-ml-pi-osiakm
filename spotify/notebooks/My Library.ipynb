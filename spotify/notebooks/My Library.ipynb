{
 "cells": [
  {
   "cell_type": "code",
   "execution_count": 1,
   "metadata": {},
   "outputs": [],
   "source": [
    "import pandas as pd\n",
    "import numpy as np\n",
    "import seaborn as sns\n",
    "import matplotlib.pyplot as plt"
   ]
  },
  {
   "cell_type": "code",
   "execution_count": 42,
   "metadata": {},
   "outputs": [],
   "source": [
    "plt.rcParams['figure.dpi'] = 100"
   ]
  },
  {
   "cell_type": "code",
   "execution_count": 25,
   "metadata": {},
   "outputs": [
    {
     "data": {
      "text/html": [
       "<div>\n",
       "<style scoped>\n",
       "    .dataframe tbody tr th:only-of-type {\n",
       "        vertical-align: middle;\n",
       "    }\n",
       "\n",
       "    .dataframe tbody tr th {\n",
       "        vertical-align: top;\n",
       "    }\n",
       "\n",
       "    .dataframe thead th {\n",
       "        text-align: right;\n",
       "    }\n",
       "</style>\n",
       "<table border=\"1\" class=\"dataframe\">\n",
       "  <thead>\n",
       "    <tr style=\"text-align: right;\">\n",
       "      <th></th>\n",
       "      <th>added_at</th>\n",
       "      <th>id</th>\n",
       "      <th>name</th>\n",
       "      <th>artist</th>\n",
       "      <th>acousticness</th>\n",
       "      <th>danceability</th>\n",
       "      <th>duration_ms</th>\n",
       "      <th>energy</th>\n",
       "      <th>instrumentalness</th>\n",
       "      <th>key</th>\n",
       "      <th>liveness</th>\n",
       "      <th>loudness</th>\n",
       "      <th>mode</th>\n",
       "      <th>speechiness</th>\n",
       "      <th>tempo</th>\n",
       "      <th>valence</th>\n",
       "    </tr>\n",
       "  </thead>\n",
       "  <tbody>\n",
       "    <tr>\n",
       "      <th>0</th>\n",
       "      <td>2019-04-23 14:47:52</td>\n",
       "      <td>47bBPpX4pnfZh99kxDu1B1</td>\n",
       "      <td>Filo d'erba</td>\n",
       "      <td>Fabrizio Moro</td>\n",
       "      <td>0.0886</td>\n",
       "      <td>0.546</td>\n",
       "      <td>194827</td>\n",
       "      <td>0.583</td>\n",
       "      <td>0.000000</td>\n",
       "      <td>3</td>\n",
       "      <td>0.133</td>\n",
       "      <td>-6.062</td>\n",
       "      <td>1</td>\n",
       "      <td>0.0369</td>\n",
       "      <td>139.865</td>\n",
       "      <td>0.416</td>\n",
       "    </tr>\n",
       "    <tr>\n",
       "      <th>1</th>\n",
       "      <td>2019-04-23 14:47:46</td>\n",
       "      <td>6Of7NcvsTNsHLW585eyoma</td>\n",
       "      <td>Bohémienne</td>\n",
       "      <td>Hélène Ségara</td>\n",
       "      <td>0.6550</td>\n",
       "      <td>0.337</td>\n",
       "      <td>319960</td>\n",
       "      <td>0.480</td>\n",
       "      <td>0.000051</td>\n",
       "      <td>2</td>\n",
       "      <td>0.698</td>\n",
       "      <td>-10.687</td>\n",
       "      <td>0</td>\n",
       "      <td>0.0355</td>\n",
       "      <td>123.786</td>\n",
       "      <td>0.339</td>\n",
       "    </tr>\n",
       "    <tr>\n",
       "      <th>2</th>\n",
       "      <td>2019-04-23 14:47:36</td>\n",
       "      <td>6ZO4Q5p7P30qMC97bWJvfY</td>\n",
       "      <td>Tant Qu'On Rêve Encore</td>\n",
       "      <td>Le Roi Soleil</td>\n",
       "      <td>0.1990</td>\n",
       "      <td>0.463</td>\n",
       "      <td>281973</td>\n",
       "      <td>0.450</td>\n",
       "      <td>0.000000</td>\n",
       "      <td>11</td>\n",
       "      <td>0.164</td>\n",
       "      <td>-9.231</td>\n",
       "      <td>1</td>\n",
       "      <td>0.0256</td>\n",
       "      <td>147.851</td>\n",
       "      <td>0.203</td>\n",
       "    </tr>\n",
       "    <tr>\n",
       "      <th>3</th>\n",
       "      <td>2019-04-23 14:47:28</td>\n",
       "      <td>7HSXqosyTxDPKYziZ4ctzp</td>\n",
       "      <td>Encore Du Temps</td>\n",
       "      <td>Victoria Petrosillo</td>\n",
       "      <td>0.1480</td>\n",
       "      <td>0.470</td>\n",
       "      <td>251560</td>\n",
       "      <td>0.501</td>\n",
       "      <td>0.000006</td>\n",
       "      <td>4</td>\n",
       "      <td>0.115</td>\n",
       "      <td>-8.833</td>\n",
       "      <td>0</td>\n",
       "      <td>0.0280</td>\n",
       "      <td>79.986</td>\n",
       "      <td>0.277</td>\n",
       "    </tr>\n",
       "    <tr>\n",
       "      <th>4</th>\n",
       "      <td>2019-04-23 14:47:22</td>\n",
       "      <td>4JL4Bl3iFjwQ7f7N0zqBi3</td>\n",
       "      <td>Qu'Avons Nous Fait De Vous?</td>\n",
       "      <td>Victoria Petrosillo</td>\n",
       "      <td>0.4630</td>\n",
       "      <td>0.538</td>\n",
       "      <td>279200</td>\n",
       "      <td>0.533</td>\n",
       "      <td>0.000003</td>\n",
       "      <td>8</td>\n",
       "      <td>0.116</td>\n",
       "      <td>-7.820</td>\n",
       "      <td>0</td>\n",
       "      <td>0.0264</td>\n",
       "      <td>106.055</td>\n",
       "      <td>0.253</td>\n",
       "    </tr>\n",
       "  </tbody>\n",
       "</table>\n",
       "</div>"
      ],
      "text/plain": [
       "             added_at                      id                         name  \\\n",
       "0 2019-04-23 14:47:52  47bBPpX4pnfZh99kxDu1B1                  Filo d'erba   \n",
       "1 2019-04-23 14:47:46  6Of7NcvsTNsHLW585eyoma                   Bohémienne   \n",
       "2 2019-04-23 14:47:36  6ZO4Q5p7P30qMC97bWJvfY       Tant Qu'On Rêve Encore   \n",
       "3 2019-04-23 14:47:28  7HSXqosyTxDPKYziZ4ctzp              Encore Du Temps   \n",
       "4 2019-04-23 14:47:22  4JL4Bl3iFjwQ7f7N0zqBi3  Qu'Avons Nous Fait De Vous?   \n",
       "\n",
       "                artist  acousticness  danceability  duration_ms  energy  \\\n",
       "0        Fabrizio Moro        0.0886         0.546       194827   0.583   \n",
       "1        Hélène Ségara        0.6550         0.337       319960   0.480   \n",
       "2        Le Roi Soleil        0.1990         0.463       281973   0.450   \n",
       "3  Victoria Petrosillo        0.1480         0.470       251560   0.501   \n",
       "4  Victoria Petrosillo        0.4630         0.538       279200   0.533   \n",
       "\n",
       "   instrumentalness  key  liveness  loudness  mode  speechiness    tempo  \\\n",
       "0          0.000000    3     0.133    -6.062     1       0.0369  139.865   \n",
       "1          0.000051    2     0.698   -10.687     0       0.0355  123.786   \n",
       "2          0.000000   11     0.164    -9.231     1       0.0256  147.851   \n",
       "3          0.000006    4     0.115    -8.833     0       0.0280   79.986   \n",
       "4          0.000003    8     0.116    -7.820     0       0.0264  106.055   \n",
       "\n",
       "   valence  \n",
       "0    0.416  \n",
       "1    0.339  \n",
       "2    0.203  \n",
       "3    0.277  \n",
       "4    0.253  "
      ]
     },
     "execution_count": 25,
     "metadata": {},
     "output_type": "execute_result"
    }
   ],
   "source": [
    "data = pd.read_csv('../data/my_data.csv', parse_dates=['added_at'])\n",
    "data.head()"
   ]
  },
  {
   "cell_type": "code",
   "execution_count": 26,
   "metadata": {},
   "outputs": [
    {
     "data": {
      "text/plain": [
       "artist\n",
       "Taco Hemingway         24\n",
       "Ermal Meta             20\n",
       "J-AX                   15\n",
       "Fabrizio Moro          13\n",
       "Taylor Swift           12\n",
       "TACONAFIDE             11\n",
       "Fedez                  10\n",
       "Francesco Gabbani       9\n",
       "Francesca Michielin     9\n",
       "Little Mix              8\n",
       "Ultimo                  8\n",
       "Fall Out Boy            7\n",
       "La Fame Di Camilla      6\n",
       "Panic! At The Disco     6\n",
       "Halsey                  5\n",
       "Name: id, dtype: int64"
      ]
     },
     "execution_count": 26,
     "metadata": {},
     "output_type": "execute_result"
    }
   ],
   "source": [
    "data.groupby('artist').id.count().sort_values(ascending=False)[:15]"
   ]
  },
  {
   "cell_type": "code",
   "execution_count": 27,
   "metadata": {},
   "outputs": [
    {
     "data": {
      "text/plain": [
       "added_at\n",
       "2017    284\n",
       "2018    266\n",
       "2019     73\n",
       "Name: id, dtype: int64"
      ]
     },
     "execution_count": 27,
     "metadata": {},
     "output_type": "execute_result"
    }
   ],
   "source": [
    "data.groupby(data.added_at.dt.year).id.count()"
   ]
  },
  {
   "cell_type": "code",
   "execution_count": 44,
   "metadata": {},
   "outputs": [
    {
     "data": {
      "text/plain": [
       "<matplotlib.axes._subplots.AxesSubplot at 0x2755f324978>"
      ]
     },
     "execution_count": 44,
     "metadata": {},
     "output_type": "execute_result"
    },
    {
     "data": {
      "image/png": "[encoded data removed]",
      "text/plain": [
       "<Figure size 600x400 with 1 Axes>"
      ]
     },
     "metadata": {
      "needs_background": "light"
     },
     "output_type": "display_data"
    }
   ],
   "source": [
    "sns.distplot(data[data.added_at.dt.year == 2017]['tempo'])\n",
    "sns.distplot(data[data.added_at.dt.year == 2018]['tempo'])\n",
    "sns.distplot(data[data.added_at.dt.year == 2019]['tempo'])"
   ]
  },
  {
   "cell_type": "code",
   "execution_count": null,
   "metadata": {},
   "outputs": [],
   "source": []
  }
 ],
 "metadata": {
  "kernelspec": {
   "display_name": "Python 3",
   "language": "python",
   "name": "python3"
  },
  "language_info": {
   "codemirror_mode": {
    "name": "ipython",
    "version": 3
   },
   "file_extension": ".py",
   "mimetype": "text/x-python",
   "name": "python",
   "nbconvert_exporter": "python",
   "pygments_lexer": "ipython3",
   "version": "3.7.1"
  }
 },
 "nbformat": 4,
 "nbformat_minor": 2
}
